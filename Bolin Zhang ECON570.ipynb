{
 "cells": [
  {
   "cell_type": "code",
   "execution_count": 2,
   "id": "65d68d5a",
   "metadata": {},
   "outputs": [],
   "source": [
    "def fn_variance(data, ddof=0):\n",
    "    n = len(data)\n",
    "    mean = sum(data) / n\n",
    "    return sum((x - mean) ** 2 for x in data) / (n - ddof)\n",
    "# Note this is equivalent to np.var(Yt,ddof)"
   ]
  },
  {
   "cell_type": "code",
   "execution_count": 3,
   "id": "628c4260",
   "metadata": {},
   "outputs": [],
   "source": [
    "def fn_generate_cov(dim):\n",
    "    acc  = []\n",
    "    for i in range(dim):\n",
    "        row = np.ones((1,dim)) * corr\n",
    "        row[0][i] = 1\n",
    "        acc.append(row)\n",
    "    return np.concatenate(acc,axis=0)\n",
    "\n",
    "def fn_generate_multnorm(nobs,corr,nvar):\n",
    "\n",
    "    mu = np.zeros(nvar)\n",
    "    std = (np.abs(np.random.normal(loc = 1, scale = .5,size = (nvar,1))))**(1/2)\n",
    "    # generate random normal distribution\n",
    "    acc = []\n",
    "    for i in range(nvar):\n",
    "        acc.append(np.reshape(np.random.normal(mu[i],std[i],nobs),(nobs,-1)))\n",
    "    \n",
    "    normvars = np.concatenate(acc,axis=1)\n",
    "\n",
    "    cov = fn_generate_cov(nvar)\n",
    "    C = np.linalg.cholesky(cov)\n",
    "\n",
    "    Y = np.transpose(np.dot(C,np.transpose(normvars)))\n",
    "\n",
    "#     return (Y,np.round(np.corrcoef(Y,rowvar=False),2))\n",
    "    return Y\n",
    "\n",
    "def fn_randomize_treatment(N,p=0.5):\n",
    "    treated = random.sample(range(N), round(N*p))\n",
    "    return np.array([(1 if i in treated else 0) for i in range(N)]).reshape([N,1])"
   ]
  },
  {
   "cell_type": "code",
   "execution_count": 4,
   "id": "28af058e",
   "metadata": {},
   "outputs": [],
   "source": [
    "import pandas as pd\n",
    "import numpy as np\n",
    "import random\n",
    "import statsmodels.api as sm\n",
    "import networkx as nx\n",
    "from sklearn.model_selection import cross_val_score\n",
    "from sklearn.model_selection import RepeatedKFold\n",
    "from sklearn.linear_model import Lasso\n",
    "from sklearn.feature_selection import SelectFromModel\n",
    "import matplotlib.pyplot as plt\n",
    "from tqdm import tqdm\n",
    "random.seed(10)"
   ]
  },
  {
   "cell_type": "code",
   "execution_count": 5,
   "id": "ad1077c9",
   "metadata": {},
   "outputs": [],
   "source": [
    "def fn_generate_data(tau,N,p,p0,corr,conf = True,flagX = False):\n",
    "    \"\"\"\n",
    "    p0(int): number of covariates with nonzero coefficients\n",
    "    \"\"\"\n",
    "    nvar = p+2 # 1 confounder and variable for randomizing treatment\n",
    "    corr = 0.5 # correlation for multivariate normal\n",
    "\n",
    "    if conf==False:\n",
    "        conf_mult = 0 # remove confounder from outcome\n",
    "        \n",
    "    allX = fn_generate_multnorm(N,corr,nvar)\n",
    "    W0 = allX[:,0].reshape([N,1]) # variable for RDD assignment\n",
    "    C = allX[:,1].reshape([N,1]) # confounder\n",
    "    X = allX[:,2:] # observed covariates\n",
    "    \n",
    "    T = fn_randomize_treatment(N) # choose treated units\n",
    "    err = np.random.normal(0,1,[N,1])\n",
    "    beta0 = np.random.normal(5,5,[p,1])\n",
    "    \n",
    "    beta0[p0:p] = 0 # sparse model\n",
    "    Yab = tau*T+X@beta0+conf_mult*0.6*C+err\n",
    "    if flagX==False:\n",
    "        return (Yab,T)\n",
    "    else:\n",
    "        return (Yab,T,X)\n",
    "    \n",
    "    # regression discontinuity\n",
    "#     W = W0 + 0.5*C+3*X[:,80].reshape([N,1])-6*X[:,81].reshape([N,1])\n",
    "#     treated = 1*(W>0)\n",
    "#     Yrdd = 1.2* treated - 4*W + X@beta0 +0.6*C+err\n",
    "\n",
    "def fn_tauhat_means(Yt,Yc):\n",
    "    nt = len(Yt)\n",
    "    nc = len(Yc)\n",
    "    tauhat = np.mean(Yt)-np.mean(Yc)\n",
    "    se_tauhat = (np.var(Yt,ddof=1)/nt+np.var(Yc,ddof=1)/nc)**(1/2)\n",
    "    return (tauhat,se_tauhat)\n",
    "\n",
    "def fn_bias_rmse_size(theta0,thetahat,se_thetahat,cval = 1.96):\n",
    "    \"\"\"\n",
    "    theta0 - true parameter value\n",
    "    thetatahat - estimated parameter value\n",
    "    se_thetahat - estiamted se of thetahat\n",
    "    \"\"\"\n",
    "    b = thetahat - theta0\n",
    "    bias = np.mean(b)\n",
    "    rmse = np.sqrt(np.mean(b**2))\n",
    "    tval = b/se_thetahat # paramhat/se_paramhat H0: theta = 0\n",
    "    size = np.mean(1*(np.abs(tval)>cval))\n",
    "    # note size calculated at true parameter value\n",
    "    return (bias,rmse,size)"
   ]
  },
  {
   "cell_type": "markdown",
   "id": "9e393328",
   "metadata": {},
   "source": [
    "# 1.Experiments with covariates in the DGP\n",
    "# $y_i = \\tau*T_i+\\beta'*X_i+e_i$\n",
    "# $y_i = 5*T_i+\\beta'*X_i+e_i$ (N = 1000)"
   ]
  },
  {
   "cell_type": "code",
   "execution_count": 6,
   "id": "c3549559",
   "metadata": {},
   "outputs": [
    {
     "data": {
      "text/html": [
       "<div>\n",
       "<style scoped>\n",
       "    .dataframe tbody tr th:only-of-type {\n",
       "        vertical-align: middle;\n",
       "    }\n",
       "\n",
       "    .dataframe tbody tr th {\n",
       "        vertical-align: top;\n",
       "    }\n",
       "\n",
       "    .dataframe thead th {\n",
       "        text-align: right;\n",
       "    }\n",
       "</style>\n",
       "<table border=\"1\" class=\"dataframe\">\n",
       "  <thead>\n",
       "    <tr style=\"text-align: right;\">\n",
       "      <th></th>\n",
       "      <th>Y</th>\n",
       "      <th>T</th>\n",
       "      <th>X1</th>\n",
       "      <th>X2</th>\n",
       "      <th>X3</th>\n",
       "      <th>X4</th>\n",
       "      <th>X5</th>\n",
       "    </tr>\n",
       "  </thead>\n",
       "  <tbody>\n",
       "    <tr>\n",
       "      <th>0</th>\n",
       "      <td>-2.099586</td>\n",
       "      <td>0.0</td>\n",
       "      <td>-0.607041</td>\n",
       "      <td>-0.111218</td>\n",
       "      <td>0.708329</td>\n",
       "      <td>0.172287</td>\n",
       "      <td>-0.207239</td>\n",
       "    </tr>\n",
       "    <tr>\n",
       "      <th>1</th>\n",
       "      <td>-4.247591</td>\n",
       "      <td>0.0</td>\n",
       "      <td>-0.179578</td>\n",
       "      <td>-0.640085</td>\n",
       "      <td>-0.497131</td>\n",
       "      <td>-0.629429</td>\n",
       "      <td>-0.058887</td>\n",
       "    </tr>\n",
       "    <tr>\n",
       "      <th>2</th>\n",
       "      <td>-6.617312</td>\n",
       "      <td>1.0</td>\n",
       "      <td>-1.120736</td>\n",
       "      <td>-1.199259</td>\n",
       "      <td>-2.497666</td>\n",
       "      <td>-0.466179</td>\n",
       "      <td>-1.493995</td>\n",
       "    </tr>\n",
       "    <tr>\n",
       "      <th>3</th>\n",
       "      <td>-3.088378</td>\n",
       "      <td>0.0</td>\n",
       "      <td>0.673049</td>\n",
       "      <td>-0.025631</td>\n",
       "      <td>0.760620</td>\n",
       "      <td>0.067950</td>\n",
       "      <td>-0.040312</td>\n",
       "    </tr>\n",
       "    <tr>\n",
       "      <th>4</th>\n",
       "      <td>8.595823</td>\n",
       "      <td>1.0</td>\n",
       "      <td>0.814103</td>\n",
       "      <td>0.472873</td>\n",
       "      <td>0.905402</td>\n",
       "      <td>0.866033</td>\n",
       "      <td>0.602282</td>\n",
       "    </tr>\n",
       "    <tr>\n",
       "      <th>...</th>\n",
       "      <td>...</td>\n",
       "      <td>...</td>\n",
       "      <td>...</td>\n",
       "      <td>...</td>\n",
       "      <td>...</td>\n",
       "      <td>...</td>\n",
       "      <td>...</td>\n",
       "    </tr>\n",
       "    <tr>\n",
       "      <th>995</th>\n",
       "      <td>-8.249862</td>\n",
       "      <td>1.0</td>\n",
       "      <td>-0.927277</td>\n",
       "      <td>-0.219572</td>\n",
       "      <td>-1.848143</td>\n",
       "      <td>-0.424124</td>\n",
       "      <td>-1.735653</td>\n",
       "    </tr>\n",
       "    <tr>\n",
       "      <th>996</th>\n",
       "      <td>15.392373</td>\n",
       "      <td>1.0</td>\n",
       "      <td>-0.058279</td>\n",
       "      <td>-0.019316</td>\n",
       "      <td>0.497988</td>\n",
       "      <td>1.177900</td>\n",
       "      <td>1.473086</td>\n",
       "    </tr>\n",
       "    <tr>\n",
       "      <th>997</th>\n",
       "      <td>-0.705835</td>\n",
       "      <td>1.0</td>\n",
       "      <td>-2.712294</td>\n",
       "      <td>-0.866194</td>\n",
       "      <td>-1.354253</td>\n",
       "      <td>-1.603748</td>\n",
       "      <td>-0.824924</td>\n",
       "    </tr>\n",
       "    <tr>\n",
       "      <th>998</th>\n",
       "      <td>16.648324</td>\n",
       "      <td>1.0</td>\n",
       "      <td>0.144129</td>\n",
       "      <td>1.729007</td>\n",
       "      <td>0.038230</td>\n",
       "      <td>0.246235</td>\n",
       "      <td>1.101100</td>\n",
       "    </tr>\n",
       "    <tr>\n",
       "      <th>999</th>\n",
       "      <td>6.180733</td>\n",
       "      <td>1.0</td>\n",
       "      <td>-0.724514</td>\n",
       "      <td>0.291201</td>\n",
       "      <td>0.147745</td>\n",
       "      <td>0.433448</td>\n",
       "      <td>0.219829</td>\n",
       "    </tr>\n",
       "  </tbody>\n",
       "</table>\n",
       "<p>1000 rows × 7 columns</p>\n",
       "</div>"
      ],
      "text/plain": [
       "             Y    T        X1        X2        X3        X4        X5\n",
       "0    -2.099586  0.0 -0.607041 -0.111218  0.708329  0.172287 -0.207239\n",
       "1    -4.247591  0.0 -0.179578 -0.640085 -0.497131 -0.629429 -0.058887\n",
       "2    -6.617312  1.0 -1.120736 -1.199259 -2.497666 -0.466179 -1.493995\n",
       "3    -3.088378  0.0  0.673049 -0.025631  0.760620  0.067950 -0.040312\n",
       "4     8.595823  1.0  0.814103  0.472873  0.905402  0.866033  0.602282\n",
       "..         ...  ...       ...       ...       ...       ...       ...\n",
       "995  -8.249862  1.0 -0.927277 -0.219572 -1.848143 -0.424124 -1.735653\n",
       "996  15.392373  1.0 -0.058279 -0.019316  0.497988  1.177900  1.473086\n",
       "997  -0.705835  1.0 -2.712294 -0.866194 -1.354253 -1.603748 -0.824924\n",
       "998  16.648324  1.0  0.144129  1.729007  0.038230  0.246235  1.101100\n",
       "999   6.180733  1.0 -0.724514  0.291201  0.147745  0.433448  0.219829\n",
       "\n",
       "[1000 rows x 7 columns]"
      ]
     },
     "execution_count": 6,
     "metadata": {},
     "output_type": "execute_result"
    }
   ],
   "source": [
    "tau = 5\n",
    "N =1000\n",
    "corr = .5\n",
    "conf=False\n",
    "p = 10\n",
    "p0 = 5 # number of covariates used in the DGP\n",
    "flagX = 1 # with covariate\n",
    "Y,T,X = fn_generate_data(tau,N,p,p0,corr,conf,flagX)\n",
    "\n",
    "data = np.concatenate([Y,T,X[:,:p0]],axis = 1)\n",
    "data = pd.DataFrame(data)\n",
    "data.columns = ['Y', 'T', 'X1', 'X2','X3','X4','X5']\n",
    "data.to_csv('covariate.csv')\n",
    "data"
   ]
  },
  {
   "cell_type": "markdown",
   "id": "9e761f49",
   "metadata": {},
   "source": [
    "# Illustrate DGP with a DAG\n",
    "\n",
    "An real-life situation that be consistent with the DGP\n",
    "\n",
    "Assuming Grades is outcome variable, and gender is treatment variable, at the same time family income and average study time per time are covariate. Covariates have no influence on treatment variable, and average study time per day will have influence on Grades, and family income also have influence on Grades. "
   ]
  },
  {
   "cell_type": "code",
   "execution_count": 7,
   "id": "c0e2bb0f",
   "metadata": {},
   "outputs": [
    {
     "data": {
      "image/png": "[encoded data removed]",
      "text/plain": [
       "<Figure size 432x288 with 1 Axes>"
      ]
     },
     "metadata": {},
     "output_type": "display_data"
    }
   ],
   "source": [
    "G = nx.DiGraph()\n",
    "\n",
    "G.add_node('s1', desc='Grades')\n",
    "G.add_node('s2', desc='gender')\n",
    "G.add_node('s3', desc='family income')\n",
    "G.add_node('s4',desc='Average study time per day')\n",
    "G.add_edge('s2','s1')\n",
    "G.add_edge('s3','s1')\n",
    "G.add_edge('s4','s1')\n",
    "\n",
    "pos = nx.spring_layout(G)\n",
    "nx.draw(G, pos)\n",
    "node_labels = nx.get_node_attributes(G, 'desc')\n",
    "nx.draw_networkx_labels(G, pos, labels=node_labels)\n",
    "plt.show()"
   ]
  },
  {
   "cell_type": "code",
   "execution_count": 8,
   "id": "66568d2b",
   "metadata": {},
   "outputs": [
    {
     "name": "stderr",
     "output_type": "stream",
     "text": [
      "100%|█████████████████████████████████████| 3000/3000 [00:02<00:00, 1467.82it/s]\n",
      "100%|██████████████████████████████████████| 3000/3000 [00:06<00:00, 460.29it/s]\n",
      "100%|██████████████████████████████████████| 3000/3000 [00:16<00:00, 181.90it/s]\n"
     ]
    }
   ],
   "source": [
    "estDict = {}  \n",
    "R = 3000  \n",
    "for N in [100,500,1000]: \n",
    "    tauhats = []\n",
    "    sehats = []\n",
    "    for r in tqdm(range(R)): \n",
    "        Yexp,T,X = fn_generate_data(tau,N,10,0,corr,conf,flagX=True)\n",
    "        Yt = Yexp[np.where(T==1)[0],:]\n",
    "        Yc = Yexp[np.where(T==0)[0],:]\n",
    "        tauhat,se_tauhat = fn_tauhat_means(Yt,Yc)\n",
    "        tauhats = tauhats + [tauhat]\n",
    "        sehats = sehats + [se_tauhat]\n",
    "    estDict[N] = {\n",
    "        'tauhat':np.array(tauhats).reshape([len(tauhats),1]),\n",
    "        'sehat':np.array(sehats).reshape([len(sehats),1])\n",
    "    }"
   ]
  },
  {
   "cell_type": "code",
   "execution_count": 9,
   "id": "2d4c2c94",
   "metadata": {},
   "outputs": [
    {
     "name": "stdout",
     "output_type": "stream",
     "text": [
      "N=100: bias=0.0028108016206245764, RMSE=0.2039060889045894, size=0.06\n",
      "N=500: bias=0.002120305205566645, RMSE=0.09053595046810331, size=0.05\n",
      "N=1000: bias=0.0022625475107200077, RMSE=0.0636338291999365, size=0.05266666666666667\n"
     ]
    }
   ],
   "source": [
    "tau0 = tau*np.ones([R,1])\n",
    "for N, results in estDict.items():\n",
    "    (bias,rmse,size) = fn_bias_rmse_size(tau0,results['tauhat'],\n",
    "                                         results['sehat'])\n",
    "    print(f'N={N}: bias={bias}, RMSE={rmse}, size={size}')"
   ]
  },
  {
   "cell_type": "markdown",
   "id": "57b585ad",
   "metadata": {},
   "source": [
    "# 2.Experiments with no control for covariates in the DGP"
   ]
  },
  {
   "cell_type": "code",
   "execution_count": 10,
   "id": "71b31ca2",
   "metadata": {},
   "outputs": [
    {
     "name": "stderr",
     "output_type": "stream",
     "text": [
      "100%|█████████████████████████████████████| 3000/3000 [00:01<00:00, 1660.21it/s]\n",
      "100%|██████████████████████████████████████| 3000/3000 [00:06<00:00, 498.67it/s]\n",
      "100%|██████████████████████████████████████| 3000/3000 [00:15<00:00, 189.88it/s]\n"
     ]
    }
   ],
   "source": [
    "estDict = {}  \n",
    "R = 3000  \n",
    "for N in [100,500,1000]: \n",
    "    tauhats = []\n",
    "    sehats = []\n",
    "    for r in tqdm(range(R)): \n",
    "        Yexp,T = fn_generate_data(tau,N,10,0,corr,conf)\n",
    "        Yt = Yexp[np.where(T==1)[0],:]\n",
    "        Yc = Yexp[np.where(T==0)[0],:]\n",
    "        tauhat,se_tauhat = fn_tauhat_means(Yt,Yc)\n",
    "        tauhats = tauhats + [tauhat]\n",
    "        sehats = sehats + [se_tauhat]\n",
    "    estDict[N] = {\n",
    "        'tauhat':np.array(tauhats).reshape([len(tauhats),1]),\n",
    "        'sehat':np.array(sehats).reshape([len(sehats),1])\n",
    "    }"
   ]
  },
  {
   "cell_type": "code",
   "execution_count": 11,
   "id": "6dc45fcd",
   "metadata": {},
   "outputs": [
    {
     "name": "stdout",
     "output_type": "stream",
     "text": [
      "N=100: bias=-0.008518356025270627, RMSE=0.1947840371262416, size=0.04733333333333333\n",
      "N=500: bias=-0.003809880459432342, RMSE=0.08888258964866545, size=0.05333333333333334\n",
      "N=1000: bias=0.0007034284332402055, RMSE=0.06306928451601072, size=0.053\n"
     ]
    }
   ],
   "source": [
    "tau0 = tau*np.ones([R,1])\n",
    "for N, results in estDict.items():\n",
    "    (bias,rmse,size) = fn_bias_rmse_size(tau0,results['tauhat'],\n",
    "                                         results['sehat'])\n",
    "    print(f'N={N}: bias={bias}, RMSE={rmse}, size={size}')"
   ]
  },
  {
   "cell_type": "markdown",
   "id": "725269c8",
   "metadata": {},
   "source": [
    "# 3. Experiments with a confounder in the DGP\n",
    "\n",
    "$y_i = 5*T_i+0.5*Confounder_i+e_i$\n",
    "\n",
    "$T_i=0.3*Confounder+u_i$"
   ]
  },
  {
   "cell_type": "code",
   "execution_count": 12,
   "id": "31bdd05d",
   "metadata": {},
   "outputs": [],
   "source": [
    "def fn_generate_data_conf(tau,N,p,corr):\n",
    "\n",
    "    nvar = p+1 \n",
    "    allX = fn_generate_multnorm(N,corr,nvar)\n",
    "    C = allX[:,1].reshape([N,1])     \n",
    "    T = fn_randomize_treatment(N) \n",
    "    err = np.random.normal(0,1,[N,1])\n",
    "    Yab = tau*T+0.5*C+err\n",
    "    \n",
    "    return (Yab,T,C)\n"
   ]
  },
  {
   "cell_type": "code",
   "execution_count": 13,
   "id": "2cd62f6e",
   "metadata": {},
   "outputs": [
    {
     "data": {
      "text/html": [
       "<div>\n",
       "<style scoped>\n",
       "    .dataframe tbody tr th:only-of-type {\n",
       "        vertical-align: middle;\n",
       "    }\n",
       "\n",
       "    .dataframe tbody tr th {\n",
       "        vertical-align: top;\n",
       "    }\n",
       "\n",
       "    .dataframe thead th {\n",
       "        text-align: right;\n",
       "    }\n",
       "</style>\n",
       "<table border=\"1\" class=\"dataframe\">\n",
       "  <thead>\n",
       "    <tr style=\"text-align: right;\">\n",
       "      <th></th>\n",
       "      <th>Yab</th>\n",
       "      <th>T</th>\n",
       "      <th>C</th>\n",
       "    </tr>\n",
       "  </thead>\n",
       "  <tbody>\n",
       "    <tr>\n",
       "      <th>0</th>\n",
       "      <td>-0.472036</td>\n",
       "      <td>0</td>\n",
       "      <td>-1.064271</td>\n",
       "    </tr>\n",
       "    <tr>\n",
       "      <th>1</th>\n",
       "      <td>4.967652</td>\n",
       "      <td>1</td>\n",
       "      <td>0.138593</td>\n",
       "    </tr>\n",
       "    <tr>\n",
       "      <th>2</th>\n",
       "      <td>3.060191</td>\n",
       "      <td>1</td>\n",
       "      <td>0.755398</td>\n",
       "    </tr>\n",
       "    <tr>\n",
       "      <th>3</th>\n",
       "      <td>-0.110665</td>\n",
       "      <td>0</td>\n",
       "      <td>-1.394789</td>\n",
       "    </tr>\n",
       "    <tr>\n",
       "      <th>4</th>\n",
       "      <td>4.948051</td>\n",
       "      <td>1</td>\n",
       "      <td>0.647760</td>\n",
       "    </tr>\n",
       "    <tr>\n",
       "      <th>...</th>\n",
       "      <td>...</td>\n",
       "      <td>...</td>\n",
       "      <td>...</td>\n",
       "    </tr>\n",
       "    <tr>\n",
       "      <th>995</th>\n",
       "      <td>6.722848</td>\n",
       "      <td>1</td>\n",
       "      <td>-0.802400</td>\n",
       "    </tr>\n",
       "    <tr>\n",
       "      <th>996</th>\n",
       "      <td>5.323502</td>\n",
       "      <td>1</td>\n",
       "      <td>-0.331100</td>\n",
       "    </tr>\n",
       "    <tr>\n",
       "      <th>997</th>\n",
       "      <td>4.119503</td>\n",
       "      <td>1</td>\n",
       "      <td>0.594261</td>\n",
       "    </tr>\n",
       "    <tr>\n",
       "      <th>998</th>\n",
       "      <td>0.452847</td>\n",
       "      <td>0</td>\n",
       "      <td>0.741114</td>\n",
       "    </tr>\n",
       "    <tr>\n",
       "      <th>999</th>\n",
       "      <td>-0.578086</td>\n",
       "      <td>0</td>\n",
       "      <td>-1.214901</td>\n",
       "    </tr>\n",
       "  </tbody>\n",
       "</table>\n",
       "<p>1000 rows × 3 columns</p>\n",
       "</div>"
      ],
      "text/plain": [
       "          Yab  T         C\n",
       "0   -0.472036  0 -1.064271\n",
       "1    4.967652  1  0.138593\n",
       "2    3.060191  1  0.755398\n",
       "3   -0.110665  0 -1.394789\n",
       "4    4.948051  1  0.647760\n",
       "..        ... ..       ...\n",
       "995  6.722848  1 -0.802400\n",
       "996  5.323502  1 -0.331100\n",
       "997  4.119503  1  0.594261\n",
       "998  0.452847  0  0.741114\n",
       "999 -0.578086  0 -1.214901\n",
       "\n",
       "[1000 rows x 3 columns]"
      ]
     },
     "execution_count": 13,
     "metadata": {},
     "output_type": "execute_result"
    }
   ],
   "source": [
    "tau = 5\n",
    "p = 10\n",
    "data2 = fn_generate_data_conf(tau,N,p,corr)\n",
    "a = pd.DataFrame(data2[0])\n",
    "b = pd.DataFrame(data2[1])\n",
    "c = pd.DataFrame(data2[2])\n",
    "\n",
    "\n",
    "data2=pd.concat([a,b,c],axis=1)\n",
    "data2.columns = ['Yab','T','C']\n",
    "data2.to_csv('confounder.csv')\n",
    "data2"
   ]
  },
  {
   "cell_type": "markdown",
   "id": "a1063b2f",
   "metadata": {},
   "source": [
    "# Illustrate DGP with a DAG\n",
    "\n",
    "An real-life situation that be consistent with the DGP\n",
    "\n",
    "Assuming income is outcome variable, and Whether a college student is treatment variable, at the same time family income and age are confounders. So confounders have influence on treatment variable, and treatment variable has impact on outcome variable too."
   ]
  },
  {
   "cell_type": "code",
   "execution_count": 14,
   "id": "a1ecf92a",
   "metadata": {},
   "outputs": [
    {
     "data": {
      "image/png": "[encoded data removed]",
      "text/plain": [
       "<Figure size 432x288 with 1 Axes>"
      ]
     },
     "metadata": {},
     "output_type": "display_data"
    }
   ],
   "source": [
    "G = nx.DiGraph()\n",
    "\n",
    "G.add_node('s1', desc='Income')\n",
    "G.add_node('s2', desc='Whether a college student')\n",
    "G.add_node('s3', desc='family income')\n",
    "G.add_node('s4',desc='age')\n",
    "G.add_edge('s2','s1')\n",
    "G.add_edge('s3','s1')\n",
    "G.add_edge('s4','s1')\n",
    "G.add_edge('s3','s2')\n",
    "G.add_edge('s4','s2')\n",
    "\n",
    "pos = nx.spring_layout(G)\n",
    "nx.draw(G, pos)\n",
    "node_labels = nx.get_node_attributes(G, 'desc')\n",
    "nx.draw_networkx_labels(G, pos, labels=node_labels)\n",
    "plt.show()"
   ]
  },
  {
   "cell_type": "code",
   "execution_count": 15,
   "id": "d64c8f82",
   "metadata": {},
   "outputs": [
    {
     "name": "stderr",
     "output_type": "stream",
     "text": [
      "100%|█████████████████████████████████████| 3000/3000 [00:02<00:00, 1122.70it/s]\n",
      "100%|██████████████████████████████████████| 3000/3000 [00:06<00:00, 452.34it/s]\n",
      "100%|██████████████████████████████████████| 3000/3000 [00:16<00:00, 179.51it/s]\n"
     ]
    }
   ],
   "source": [
    "estDict = {}\n",
    "R = 3000\n",
    "for N in [100,500,1000]:\n",
    "    tauhats = []\n",
    "    sehats = []\n",
    "    for r in tqdm(range(R)):\n",
    "        Y,T,C = fn_generate_data_conf(tau,N,p,corr)\n",
    "        covars = np.concatenate([T,C],axis = 1)\n",
    "        mod = sm.OLS(Y,covars)\n",
    "        res = mod.fit()\n",
    "        tauhat = res.params[0]\n",
    "        se_tauhat = res.HC1_se[0]\n",
    "        tauhats = tauhats + [tauhat]\n",
    "        sehats = sehats + [se_tauhat]\n",
    "        \n",
    "    estDict[N] = {\n",
    "        'tauhat':np.array(tauhats).reshape([len(tauhats),1]),\n",
    "        'sehat':np.array(sehats).reshape([len(sehats),1])\n",
    "    }"
   ]
  },
  {
   "cell_type": "code",
   "execution_count": 16,
   "id": "c19b4feb",
   "metadata": {},
   "outputs": [
    {
     "name": "stdout",
     "output_type": "stream",
     "text": [
      "N=100: bias=-0.0060386263511846665, RMSE=0.14149567789421907, size=0.057666666666666665\n",
      "N=500: bias=0.0007147417904871475, RMSE=0.06486322910531281, size=0.05733333333333333\n",
      "N=1000: bias=-0.00037326190049763615, RMSE=0.044743110135780945, size=0.049\n"
     ]
    }
   ],
   "source": [
    "tau0 = tau*np.ones([R,1])\n",
    "for N, results in estDict.items():\n",
    "    (bias,rmse,size) = fn_bias_rmse_size(tau0,results['tauhat'],\n",
    "                                         results['sehat'])\n",
    "    print(f'N={N}: bias={bias}, RMSE={rmse}, size={size}')"
   ]
  },
  {
   "cell_type": "markdown",
   "id": "f848919a",
   "metadata": {},
   "source": [
    "# 4. Experiments with no control for confounder in the DGP"
   ]
  },
  {
   "cell_type": "code",
   "execution_count": 17,
   "id": "91e882c4",
   "metadata": {},
   "outputs": [
    {
     "name": "stderr",
     "output_type": "stream",
     "text": [
      "100%|█████████████████████████████████████| 3000/3000 [00:02<00:00, 1189.25it/s]\n",
      "100%|██████████████████████████████████████| 3000/3000 [00:06<00:00, 464.67it/s]\n",
      "100%|██████████████████████████████████████| 3000/3000 [00:17<00:00, 175.85it/s]\n"
     ]
    }
   ],
   "source": [
    "estDict = {}\n",
    "R = 3000\n",
    "for N in [100,500,1000]:\n",
    "    tauhats = []\n",
    "    sehats = []\n",
    "    for r in tqdm(range(R)):\n",
    "        Y,T,C = fn_generate_data_conf(tau,N,p,corr)\n",
    "        covars = np.concatenate([T],axis = 1)\n",
    "        mod = sm.OLS(Y,covars)\n",
    "        res = mod.fit()\n",
    "        tauhat = res.params[0]\n",
    "        se_tauhat = res.HC1_se[0]\n",
    "        tauhats = tauhats + [tauhat]\n",
    "        sehats = sehats + [se_tauhat]\n",
    "    estDict[N] = {\n",
    "        'tauhat':np.array(tauhats).reshape([len(tauhats),1]),\n",
    "        'sehat':np.array(sehats).reshape([len(sehats),1])\n",
    "    }"
   ]
  },
  {
   "cell_type": "code",
   "execution_count": 18,
   "id": "bebac437",
   "metadata": {},
   "outputs": [
    {
     "name": "stdout",
     "output_type": "stream",
     "text": [
      "N=100: bias=0.0007428029960459822, RMSE=0.16265046463019625, size=0.060333333333333336\n",
      "N=500: bias=-0.001788549468088964, RMSE=0.07019470546092868, size=0.053\n",
      "N=1000: bias=0.0004822677546837649, RMSE=0.049866361025207175, size=0.05\n"
     ]
    }
   ],
   "source": [
    "tau0 = tau*np.ones([R,1])\n",
    "for N, results in estDict.items():\n",
    "    (bias,rmse,size) = fn_bias_rmse_size(tau0,results['tauhat'],\n",
    "                                         results['sehat'])\n",
    "    print(f'N={N}: bias={bias}, RMSE={rmse}, size={size}')"
   ]
  },
  {
   "cell_type": "markdown",
   "id": "f8261551",
   "metadata": {},
   "source": [
    "# 5. Experiments with selection bias in the DGP\n",
    "\n",
    "$s_i = 0.5*y_i+0.5*T_i+u_i$\n",
    "\n",
    "$y_i=5*T_i+e_i$"
   ]
  },
  {
   "cell_type": "code",
   "execution_count": 19,
   "id": "724b36dd",
   "metadata": {},
   "outputs": [],
   "source": [
    "def fn_generate_data_s(tau,N,p,corr):\n",
    "\n",
    "    nvar = p+1 \n",
    "    allX = fn_generate_multnorm(N,corr,nvar)\n",
    "    T = fn_randomize_treatment(N)\n",
    "    err = np.random.normal(0,1,[N,1])\n",
    "    U = np.random.normal(0,1,[N,1])\n",
    "    Y = tau*T+err\n",
    "    S = 0.5*T+0.5*Y+U\n",
    "\n",
    "    return (Y,T,S)"
   ]
  },
  {
   "cell_type": "code",
   "execution_count": 20,
   "id": "54dddbd7",
   "metadata": {},
   "outputs": [
    {
     "data": {
      "text/html": [
       "<div>\n",
       "<style scoped>\n",
       "    .dataframe tbody tr th:only-of-type {\n",
       "        vertical-align: middle;\n",
       "    }\n",
       "\n",
       "    .dataframe tbody tr th {\n",
       "        vertical-align: top;\n",
       "    }\n",
       "\n",
       "    .dataframe thead th {\n",
       "        text-align: right;\n",
       "    }\n",
       "</style>\n",
       "<table border=\"1\" class=\"dataframe\">\n",
       "  <thead>\n",
       "    <tr style=\"text-align: right;\">\n",
       "      <th></th>\n",
       "      <th>Y</th>\n",
       "      <th>T</th>\n",
       "      <th>S</th>\n",
       "    </tr>\n",
       "  </thead>\n",
       "  <tbody>\n",
       "    <tr>\n",
       "      <th>0</th>\n",
       "      <td>-1.206130</td>\n",
       "      <td>1.0</td>\n",
       "      <td>-0.593647</td>\n",
       "    </tr>\n",
       "    <tr>\n",
       "      <th>1</th>\n",
       "      <td>1.049248</td>\n",
       "      <td>0.0</td>\n",
       "      <td>-1.041922</td>\n",
       "    </tr>\n",
       "    <tr>\n",
       "      <th>2</th>\n",
       "      <td>-0.717068</td>\n",
       "      <td>0.0</td>\n",
       "      <td>0.081248</td>\n",
       "    </tr>\n",
       "    <tr>\n",
       "      <th>3</th>\n",
       "      <td>1.011666</td>\n",
       "      <td>0.0</td>\n",
       "      <td>0.914449</td>\n",
       "    </tr>\n",
       "    <tr>\n",
       "      <th>4</th>\n",
       "      <td>1.275736</td>\n",
       "      <td>1.0</td>\n",
       "      <td>0.785587</td>\n",
       "    </tr>\n",
       "    <tr>\n",
       "      <th>...</th>\n",
       "      <td>...</td>\n",
       "      <td>...</td>\n",
       "      <td>...</td>\n",
       "    </tr>\n",
       "    <tr>\n",
       "      <th>995</th>\n",
       "      <td>1.556416</td>\n",
       "      <td>0.0</td>\n",
       "      <td>-0.571092</td>\n",
       "    </tr>\n",
       "    <tr>\n",
       "      <th>996</th>\n",
       "      <td>-2.140416</td>\n",
       "      <td>1.0</td>\n",
       "      <td>-1.350849</td>\n",
       "    </tr>\n",
       "    <tr>\n",
       "      <th>997</th>\n",
       "      <td>-0.268657</td>\n",
       "      <td>0.0</td>\n",
       "      <td>0.176346</td>\n",
       "    </tr>\n",
       "    <tr>\n",
       "      <th>998</th>\n",
       "      <td>-0.881219</td>\n",
       "      <td>1.0</td>\n",
       "      <td>-0.582346</td>\n",
       "    </tr>\n",
       "    <tr>\n",
       "      <th>999</th>\n",
       "      <td>1.477009</td>\n",
       "      <td>0.0</td>\n",
       "      <td>0.146150</td>\n",
       "    </tr>\n",
       "  </tbody>\n",
       "</table>\n",
       "<p>1000 rows × 3 columns</p>\n",
       "</div>"
      ],
      "text/plain": [
       "            Y    T         S\n",
       "0   -1.206130  1.0 -0.593647\n",
       "1    1.049248  0.0 -1.041922\n",
       "2   -0.717068  0.0  0.081248\n",
       "3    1.011666  0.0  0.914449\n",
       "4    1.275736  1.0  0.785587\n",
       "..        ...  ...       ...\n",
       "995  1.556416  0.0 -0.571092\n",
       "996 -2.140416  1.0 -1.350849\n",
       "997 -0.268657  0.0  0.176346\n",
       "998 -0.881219  1.0 -0.582346\n",
       "999  1.477009  0.0  0.146150\n",
       "\n",
       "[1000 rows x 3 columns]"
      ]
     },
     "execution_count": 20,
     "metadata": {},
     "output_type": "execute_result"
    }
   ],
   "source": [
    "tau = 0.1\n",
    "p = 10\n",
    "N = 1000\n",
    "Y,T,S = fn_generate_data_s(tau,N,p,corr)\n",
    "\n",
    "data = np.concatenate([Y,T,S],axis = 1)\n",
    "data = pd.DataFrame(data)\n",
    "data.columns = ['Y', 'T', 'S']\n",
    "data.to_csv('selectionbias.csv')\n",
    "data"
   ]
  },
  {
   "cell_type": "markdown",
   "id": "1aa26be9",
   "metadata": {},
   "source": [
    "# Illustrate DGP with a DAG\n",
    "\n",
    "An real-life situation that be consistent with the DGP\n",
    "\n",
    "Assuming Shortsighted is outcome variable, and Whether looking at electronic devices for more than 8 hours is treatment variable, S refer to whether doing eye surgery. In this case, Shortsighted maybe cause doing eye surgery, and whether looking at electronic devices more than 8 hours also has impact on whether doing eye surgery. But on the contrary, Whether doing eye surgery has no impact on outcome variable and treatment variable."
   ]
  },
  {
   "cell_type": "code",
   "execution_count": 21,
   "id": "21208ec6",
   "metadata": {},
   "outputs": [
    {
     "data": {
      "image/png": "[encoded data removed]",
      "text/plain": [
       "<Figure size 432x288 with 1 Axes>"
      ]
     },
     "metadata": {},
     "output_type": "display_data"
    }
   ],
   "source": [
    "G = nx.DiGraph()\n",
    "\n",
    "G.add_node('s1', desc='Shortsighted')\n",
    "G.add_node('s2', desc='Whether looking at electronic devices for more than 8 hours')\n",
    "G.add_node('s3', desc='Whether doing eye surgery')\n",
    "G.add_edge('s2','s1')\n",
    "G.add_edge('s1','s3')\n",
    "G.add_edge('s2','s3')\n",
    "\n",
    "pos = nx.spring_layout(G)\n",
    "nx.draw(G, pos)\n",
    "node_labels = nx.get_node_attributes(G, 'desc')\n",
    "nx.draw_networkx_labels(G, pos, labels=node_labels)\n",
    "plt.show()"
   ]
  },
  {
   "cell_type": "code",
   "execution_count": 24,
   "id": "421e851d",
   "metadata": {},
   "outputs": [
    {
     "name": "stderr",
     "output_type": "stream",
     "text": [
      "100%|██████████████████████████████████████| 3000/3000 [00:03<00:00, 964.62it/s]\n",
      "100%|██████████████████████████████████████| 3000/3000 [00:07<00:00, 392.33it/s]\n",
      "100%|██████████████████████████████████████| 3000/3000 [00:17<00:00, 168.40it/s]\n"
     ]
    }
   ],
   "source": [
    "estDict = {}\n",
    "R = 3000\n",
    "for N in [100,500,1000]:\n",
    "    tauhats = []\n",
    "    sehats = []\n",
    "    for r in tqdm(range(R)):\n",
    "        Yexp,T,Z = fn_generate_data_s(tau,N,p,corr)\n",
    "        covars = np.concatenate([T,Z],axis = 1)\n",
    "        mod = sm.OLS(Yexp,covars)\n",
    "        res = mod.fit()\n",
    "        tauhat = res.params[0]\n",
    "        se_tauhat = res.HC1_se[0]\n",
    "        tauhats = tauhats + [tauhat]\n",
    "        sehats = sehats + [se_tauhat]\n",
    "        \n",
    "    estDict[N] = {\n",
    "        'tauhat':np.array(tauhats).reshape([len(tauhats),1]),\n",
    "        'sehat':np.array(sehats).reshape([len(sehats),1])\n",
    "    }"
   ]
  },
  {
   "cell_type": "code",
   "execution_count": 25,
   "id": "ad097c9e",
   "metadata": {},
   "outputs": [
    {
     "name": "stdout",
     "output_type": "stream",
     "text": [
      "N=100: bias=-0.2187895515135136, RMSE=0.25699956108005484, size=0.385\n",
      "N=500: bias=-0.21869130741033466, RMSE=0.22696631937115924, size=0.9516666666666667\n",
      "N=1000: bias=-0.22103150472509045, RMSE=0.224864430120098, size=0.9996666666666667\n"
     ]
    }
   ],
   "source": [
    "tau0 = tau*np.ones([R,1])\n",
    "for N, results in estDict.items():\n",
    "    (bias,rmse,size) = fn_bias_rmse_size(tau0,results['tauhat'],\n",
    "                                         results['sehat'])\n",
    "    print(f'N={N}: bias={bias}, RMSE={rmse}, size={size}')"
   ]
  },
  {
   "cell_type": "markdown",
   "id": "479202f2",
   "metadata": {},
   "source": [
    "# 6. Experiments with not controled selection bias in the DGP"
   ]
  },
  {
   "cell_type": "code",
   "execution_count": 27,
   "id": "5bb4cf03",
   "metadata": {},
   "outputs": [
    {
     "name": "stderr",
     "output_type": "stream",
     "text": [
      "100%|█████████████████████████████████████| 3000/3000 [00:01<00:00, 1663.61it/s]\n",
      "100%|██████████████████████████████████████| 3000/3000 [00:05<00:00, 522.88it/s]\n",
      "100%|██████████████████████████████████████| 3000/3000 [00:17<00:00, 176.32it/s]\n"
     ]
    }
   ],
   "source": [
    "estDict = {}\n",
    "R = 3000\n",
    "for N in [100,500,1000]:\n",
    "    tauhats = []\n",
    "    sehats = []\n",
    "    for r in tqdm(range(R)):\n",
    "        Yexp,T,Z = fn_generate_data_s(tau,N,p,corr)   \n",
    "        Yt = Yexp[np.where(T==1)[0],:]\n",
    "        Yc = Yexp[np.where(T==0)[0],:]\n",
    "        tauhat,se_tauhat = fn_tauhat_means(Yt,Yc)\n",
    "        tauhats = tauhats + [tauhat]\n",
    "        sehats = sehats + [se_tauhat]\n",
    "        \n",
    "    estDict[N] = {\n",
    "        'tauhat':np.array(tauhats).reshape([len(tauhats),1]),\n",
    "        'sehat':np.array(sehats).reshape([len(sehats),1])\n",
    "    }"
   ]
  },
  {
   "cell_type": "code",
   "execution_count": 28,
   "id": "14f26fcf",
   "metadata": {},
   "outputs": [
    {
     "name": "stdout",
     "output_type": "stream",
     "text": [
      "N=100: bias=0.001421423332848218, RMSE=0.20031874398302846, size=0.047\n",
      "N=500: bias=-0.0009083978919419381, RMSE=0.08941800955834195, size=0.052\n",
      "N=1000: bias=0.0006420274419531204, RMSE=0.06234284632705329, size=0.04833333333333333\n"
     ]
    }
   ],
   "source": [
    "tau0 = tau*np.ones([R,1])\n",
    "for N, results in estDict.items():\n",
    "    (bias,rmse,size) = fn_bias_rmse_size(tau0,results['tauhat'],\n",
    "                                         results['sehat'])\n",
    "    print(f'N={N}: bias={bias}, RMSE={rmse}, size={size}')"
   ]
  }
 ],
 "metadata": {
  "kernelspec": {
   "display_name": "Python 3 (ipykernel)",
   "language": "python",
   "name": "python3"
  },
  "language_info": {
   "codemirror_mode": {
    "name": "ipython",
    "version": 3
   },
   "file_extension": ".py",
   "mimetype": "text/x-python",
   "name": "python",
   "nbconvert_exporter": "python",
   "pygments_lexer": "ipython3",
   "version": "3.9.7"
  }
 },
 "nbformat": 4,
 "nbformat_minor": 5
}
